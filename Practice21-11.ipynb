{
  "nbformat": 4,
  "nbformat_minor": 0,
  "metadata": {
    "colab": {
      "name": "Practice.ipynb",
      "provenance": [],
      "collapsed_sections": [],
      "authorship_tag": "ABX9TyNHy8Jzp3R0Q6KLDSP3E2/w",
      "include_colab_link": true
    },
    "kernelspec": {
      "name": "python3",
      "display_name": "Python 3"
    }
  },
  "cells": [
    {
      "cell_type": "markdown",
      "metadata": {
        "id": "view-in-github",
        "colab_type": "text"
      },
      "source": [
        "<a href=\"https://colab.research.google.com/github/Chaitanya-Varma-Sykam/PythonPracticeCode/blob/master/Practice21-11.ipynb\" target=\"_parent\"><img src=\"https://colab.research.google.com/assets/colab-badge.svg\" alt=\"Open In Colab\"/></a>"
      ]
    },
    {
      "cell_type": "code",
      "metadata": {
        "id": "bTSTTKprhNSw"
      },
      "source": [
        "#1.Convert Farenheit to Celcius\n",
        "print(\"Enter a temp in farenheit to covert: \")\n",
        "f=int(input())\n",
        "print(f'The temperture in celcius is {((f-32)*5)/9} degree celcius')"
      ],
      "execution_count": null,
      "outputs": []
    },
    {
      "cell_type": "code",
      "metadata": {
        "id": "NbxhDaBviRjS"
      },
      "source": [
        "#2.swap 2 numbers ( u can use temporary variable) \n",
        "temp=0\n",
        "print(\"Enter value of a\")\n",
        "a=int(input())\n",
        "print(\"Enter value of b\")\n",
        "b=int(input())\n",
        "print(f'Before swaping a={a} and b={b}')\n",
        "temp=a\n",
        "a=b\n",
        "b=temp\n",
        "print(f'After swapping a={a} and b={b}')"
      ],
      "execution_count": null,
      "outputs": []
    },
    {
      "cell_type": "code",
      "metadata": {
        "id": "PmnCpX3plDjJ"
      },
      "source": [
        "#3.Swap 2 numbers with out using temperory variable\n",
        "print(\"Enter value of a\")\n",
        "a=int(input())\n",
        "print(\"Enter value of b\")\n",
        "b=int(input())\n",
        "print(f'Before swaping a={a} and b={b}')\n",
        "a=a+b \n",
        "b=a-b \n",
        "a=a-b \n",
        "print(f'Before swaping a={a} and b={b}')\n"
      ],
      "execution_count": null,
      "outputs": []
    },
    {
      "cell_type": "code",
      "metadata": {
        "id": "if1Kkr0Cl1um"
      },
      "source": [
        "#4.print all even number from 1-100\n",
        "n=2\n",
        "while(n<101):\n",
        "  print(n)\n",
        "  n=n+2"
      ],
      "execution_count": null,
      "outputs": []
    },
    {
      "cell_type": "code",
      "metadata": {
        "id": "VE5vzag1mxB0"
      },
      "source": [
        "#5.print yor name 10 times\n",
        "i=1\n",
        "while (i<11):\n",
        "  print(f\"{i}.Chaitanya Varma\")\n",
        "  i=i+1"
      ],
      "execution_count": null,
      "outputs": []
    },
    {
      "cell_type": "code",
      "metadata": {
        "id": "X05aSTrGnN29"
      },
      "source": [
        "#6.print 1 to 100 is ascending order\n",
        "i=1\n",
        "while (i<101):\n",
        "  print(i)\n",
        "  i=i+1"
      ],
      "execution_count": null,
      "outputs": []
    },
    {
      "cell_type": "code",
      "metadata": {
        "id": "EqQxZHe2ni0w"
      },
      "source": [
        "#7.print 1 to 100 is descending order\n",
        "i=100\n",
        "while (i>0):\n",
        "  print(i)\n",
        "  i=i-1"
      ],
      "execution_count": null,
      "outputs": []
    },
    {
      "cell_type": "code",
      "metadata": {
        "id": "4Xo-_D-pnyKJ"
      },
      "source": [
        "#8.print 1 -50 and 50-1\n",
        "i=1\n",
        "while (i<=50):\n",
        "  print(i)\n",
        "  i=i+1\n",
        "i=i-1\n",
        "while (i>0):\n",
        "  print(i)\n",
        "  i=i-1"
      ],
      "execution_count": null,
      "outputs": []
    },
    {
      "cell_type": "code",
      "metadata": {
        "id": "KF9Msh6_qNIT"
      },
      "source": [
        "#9.print all multiples of 5 which are less than 200\n",
        "i=5\n",
        "while (i<200):\n",
        "  print(i)\n",
        "  i=i+5"
      ],
      "execution_count": null,
      "outputs": []
    },
    {
      "cell_type": "code",
      "metadata": {
        "id": "12bXiEpzrhRc"
      },
      "source": [
        "#9a.) print all numbers which are mutiples of both 5 and 3 less than 300 (optional)\n",
        "i=15\n",
        "while (i<301):\n",
        "  print(i)\n",
        "  i=i+15"
      ],
      "execution_count": null,
      "outputs": []
    },
    {
      "cell_type": "code",
      "metadata": {
        "id": "6P3E9YhdyqOp"
      },
      "source": [
        "#10.Print prime numbers less than 100\n",
        "primes=[2]\n",
        "for x in range(1,100,2):\n",
        "  i=0\n",
        "  for y in range(2,100):\n",
        "    if y==x:\n",
        "      continue\n",
        "    k=x%y\n",
        "    if k==0:\n",
        "      break\n",
        "    else:\n",
        "      i=i+1\n",
        "  #print(f'i={i} x={x}')\n",
        "  if i==97:\n",
        "    primes.append(x)\n",
        "\n",
        "print(primes)   \n",
        "print(len(primes))\n",
        "    "
      ],
      "execution_count": null,
      "outputs": []
    },
    {
      "cell_type": "markdown",
      "metadata": {
        "id": "jvGtRRlJ3VZe"
      },
      "source": [
        "# New Section"
      ]
    },
    {
      "cell_type": "code",
      "metadata": {
        "id": "laUkvmj-3lDe"
      },
      "source": [
        "#10.Print prime numbers less than 100\n",
        "print(\"Enter no n\")\n",
        "n=int(input())\n",
        "primes=[2]\n",
        "for x in range(1,n,2):\n",
        "  i=0\n",
        "  for y in range(2,n):\n",
        "    if y==x:\n",
        "      continue\n",
        "    k=x%y\n",
        "    if k==0:\n",
        "      break\n",
        "    else:\n",
        "      i=i+1\n",
        "  #print(f'i={i} x={x}')\n",
        "  if i==n-3:\n",
        "    primes.append(x)\n",
        "\n",
        "print(primes)   \n",
        "print(len(primes))\n",
        "    "
      ],
      "execution_count": null,
      "outputs": []
    },
    {
      "cell_type": "code",
      "metadata": {
        "colab": {
          "base_uri": "https://localhost:8080/"
        },
        "id": "Zva8GLT34kpo",
        "outputId": "d49d45b8-3b49-4a78-dbbc-b2991728b18c"
      },
      "source": [
        "#10.Print prime numbers less than 100\n",
        "print(\"Enter no n\")\n",
        "n=int(input())\n",
        "primes=[2]\n",
        "for x in range(1,n,2):\n",
        "  i=0\n",
        "  for y in primes:\n",
        "    if y==x:\n",
        "      continue\n",
        "    k=x%y\n",
        "    if k==0:\n",
        "      break\n",
        "    else:\n",
        "      i=i+1\n",
        "  print(f'i={i} x={x}')\n",
        "  if i==len(primes):\n",
        "    primes.append(x)\n",
        "\n",
        "print(primes)   \n",
        "print(len(primes))\n",
        "    "
      ],
      "execution_count": 53,
      "outputs": [
        {
          "output_type": "stream",
          "text": [
            "Enter no n\n",
            "50\n",
            "i=1 x=1\n",
            "i=1 x=3\n",
            "i=1 x=5\n",
            "i=1 x=7\n",
            "i=1 x=9\n",
            "i=1 x=11\n",
            "i=1 x=13\n",
            "i=1 x=15\n",
            "i=1 x=17\n",
            "i=1 x=19\n",
            "i=1 x=21\n",
            "i=1 x=23\n",
            "i=1 x=25\n",
            "i=1 x=27\n",
            "i=1 x=29\n",
            "i=1 x=31\n",
            "i=1 x=33\n",
            "i=1 x=35\n",
            "i=1 x=37\n",
            "i=1 x=39\n",
            "i=1 x=41\n",
            "i=1 x=43\n",
            "i=1 x=45\n",
            "i=1 x=47\n",
            "i=1 x=49\n",
            "[2, 1]\n",
            "2\n"
          ],
          "name": "stdout"
        }
      ]
    }
  ]
}