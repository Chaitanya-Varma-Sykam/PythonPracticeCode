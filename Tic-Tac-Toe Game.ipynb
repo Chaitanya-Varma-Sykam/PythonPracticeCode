{
 "cells": [
  {
   "cell_type": "code",
   "execution_count": null,
   "metadata": {},
   "outputs": [
    {
     "name": "stdout",
     "output_type": "stream",
     "text": [
      "HI\n",
      "___|___|___\n",
      "___|___|___\n",
      "   |   |   \n",
      "Lets start the game\n",
      "\n",
      "XXXXXX's TURN: Enter a value between 1 to 9\n"
     ]
    }
   ],
   "source": [
    "from IPython.display import clear_output\n",
    "def gst(val,mem):\n",
    "    print(f'gst called val and mem are {val},{mem}')\n",
    "    if val==1:\n",
    "        l1[1]=mem\n",
    "    elif val==2:\n",
    "        l1[5]=mem\n",
    "    elif val==3:\n",
    "        l1[9]=mem\n",
    "    elif val==4:\n",
    "        l2[1]=mem\n",
    "    elif val==5:\n",
    "        l2[5]=mem\n",
    "    elif val==6:\n",
    "        l2[9]=mem\n",
    "    elif val==7:\n",
    "        l3[1]=mem\n",
    "    elif val==8:\n",
    "        l3[5]=mem\n",
    "    elif val==9:\n",
    "        l3[9]=mem\n",
    "    return None\n",
    "    \n",
    "#def tictac()\n",
    "l1=['_','_','_','|','_','_','_','|','_','_','_']\n",
    "l2=['_','_','_','|','_','_','_','|','_','_','_']\n",
    "l3=[' ',' ',' ','|',' ',' ',' ','|',' ',' ',' ']\n",
    "game=''.join(l1)+'\\n'+''.join(l2)+'\\n'+''.join(l3)\n",
    "print('HI')\n",
    "print(game)\n",
    "repeat=''\n",
    "t=1\n",
    "\n",
    "while len(repeat)<9:\n",
    "    place=0\n",
    "    if t==1:\n",
    "        print('Lets start the game\\n')\n",
    "    if t%2==0:\n",
    "        print(\"OOOOOO's TURN: Enter a value between 1 to 9\")\n",
    "        place=int(input())\n",
    "        if str(place) not in repeat:\n",
    "            print(f'place is NOT in repeat-{place}')\n",
    "            clear_output(wait=True)\n",
    "            gst(place,'O')\n",
    "        else:\n",
    "            while str(place) in repeat:\n",
    "                print('place occupied please enter another value:')\n",
    "                place=int(input())\n",
    "                clear_output(wait=True)\n",
    "                print(f'OOOO turn-place is {place}')\n",
    "                gst(place,'O')\n",
    "                t=t+1\n",
    "                pass\n",
    "            \n",
    "    else:\n",
    "        print(\"XXXXXX's TURN: Enter a value between 1 to 9\")\n",
    "        place=int(input())\n",
    "        if str(place) not in repeat:\n",
    "            print(f'place is not in repeat-{place}')\n",
    "            clear_output(wait=True)\n",
    "            gst(place,'X')\n",
    "        else:\n",
    "            while str(place) in repeat:\n",
    "                print('place occupied please enter another value:')\n",
    "                place=int(input())\n",
    "                clear_output(wait=True)\n",
    "                print(f'XXXX turn - place is {place}')\n",
    "                gst(place,'X')\n",
    "                t=t+1\n",
    "                pass\n",
    "            \n",
    "    game=''.join(l1)+'\\n'+''.join(l2)+'\\n'+''.join(l3)        \n",
    "    print(game)\n",
    "    repeat=repeat+(str(place))\n",
    "    print(f'Repeat value is:{repeat}')\n",
    "    print(f'Final place is {place}')\n",
    "    t+=1\n",
    "    \n",
    "    \n",
    "    \n",
    "\n"
   ]
  },
  {
   "cell_type": "code",
   "execution_count": null,
   "metadata": {},
   "outputs": [],
   "source": [
    "## "
   ]
  }
 ],
 "metadata": {
  "kernelspec": {
   "display_name": "Python 3",
   "language": "python",
   "name": "python3"
  },
  "language_info": {
   "codemirror_mode": {
    "name": "ipython",
    "version": 3
   },
   "file_extension": ".py",
   "mimetype": "text/x-python",
   "name": "python",
   "nbconvert_exporter": "python",
   "pygments_lexer": "ipython3",
   "version": "3.7.6"
  }
 },
 "nbformat": 4,
 "nbformat_minor": 4
}
