{
  "nbformat": 4,
  "nbformat_minor": 0,
  "metadata": {
    "colab": {
      "name": "Guessing Game.ipynb",
      "provenance": [],
      "collapsed_sections": [],
      "authorship_tag": "ABX9TyOXMCu/OsSsg0aR25Y6eNtr",
      "include_colab_link": true
    },
    "kernelspec": {
      "name": "python3",
      "display_name": "Python 3"
    }
  },
  "cells": [
    {
      "cell_type": "markdown",
      "metadata": {
        "id": "view-in-github",
        "colab_type": "text"
      },
      "source": [
        "<a href=\"https://colab.research.google.com/github/Chaitanya-Varma-Sykam/PythonPracticeCode/blob/master/Guessing_Game.ipynb\" target=\"_parent\"><img src=\"https://colab.research.google.com/assets/colab-badge.svg\" alt=\"Open In Colab\"/></a>"
      ]
    },
    {
      "cell_type": "code",
      "metadata": {
        "id": "H4pSBrznho5i",
        "outputId": "e86be824-ae4d-45f0-c1d6-6ff45890a979",
        "colab": {
          "base_uri": "https://localhost:8080/"
        }
      },
      "source": [
        "# Number Guessing Game\n",
        "import random\n",
        "from IPython.display import clear_output\n",
        "\n",
        "#Core Guess meathod\n",
        "s1=0\n",
        "s2=0\n",
        "def guess(p):\n",
        "  global s1\n",
        "  global s2\n",
        "  rnum=random.randint(1,25)\n",
        "  intake=int(input())\n",
        "  for i in range(5):\n",
        "    if intake==rnum:\n",
        "      clear_output(wait=True)\n",
        "      print(f'Yay! You have guessed {intake} in {i+1}th attempt')\n",
        "      if p==\"Player1\":\n",
        "        s1=s1+i\n",
        "      else:\n",
        "        s2=s2+i\n",
        "      break\n",
        "    else:\n",
        "      if intake<rnum:\n",
        "        clear_output(wait=True)\n",
        "        print(f\"{p}'s turn\")\n",
        "        print(f'You entered {intake} and it is smaller, try again')\n",
        "        if abs(intake-rnum)<3:\n",
        "          if intake-rnum<0:\n",
        "            print(\"You are close and your number is smaller\")\n",
        "          if intake-rnum>0:\n",
        "            print(\"You are closer and your number is bigger\")\n",
        "        intake=int(input())\n",
        "      else:\n",
        "        clear_output(wait=True)\n",
        "        print(f\"{p}'s turn\")\n",
        "        print(f'You entered {intake} and it  is bigger, try again')\n",
        "        if abs(intake-rnum)<3:\n",
        "          if intake-rnum<0:\n",
        "            print(\"You are close and your number is smaller\")\n",
        "          if intake-rnum>0:\n",
        "            print(\"You are closer and your number is bigger\")\n",
        "        intake=int(input())\n",
        "    \n",
        "    if i==5:\n",
        "      clear_output(wait=True)\n",
        "      print(\"Alas!, Ur chances ran up.\")\n",
        "      if p==\"Player1\":\n",
        "        s1=s1+5\n",
        "      else:\n",
        "        s2=s2+5\n",
        "  return [s1,s2]\n",
        "    \n",
        "\n",
        "\n",
        "#Game program\n",
        "score_list[]\n",
        "for x in range(2):\n",
        "  if x==0:\n",
        "    print(\"Let's start the number Guessing game\")\n",
        "    print(\"Rules: U have 5 chances to find the number which lies between 1 and 25\")\n",
        "    print(\"       Guess in minimum number of chances than the other player to win\")\n",
        "    print(\"       Have Fun\")\n",
        "    print(\"Player 1's turn\")\n",
        "    p1=\"Player1\"\n",
        "    guess(p1)\n",
        "  if x==1:  \n",
        "    clear_output(wait=True)\n",
        "    print(\"Player 1's turn\")\n",
        "    p1=\"Player1\"\n",
        "    guess(p1)\n",
        "  clear_output(wait=True)\n",
        "  print(\"Player 2's turn\")\n",
        "  p2=\"Player2\"\n",
        "  guess(p2)\n",
        "\n",
        "  \n",
        "print('Number of attempts taken by players are:\\n')\n",
        "print(f'After 2 trails Player_1 attemps: {s1+1}')\n",
        "print(f'After 2 trails Player_2 attemps: {s2+1}')\n",
        "if s1<s1:\n",
        "  print(\"Player 1 is the winner\")\n",
        "elif s1>s2:\n",
        "  print(\"Player 2 is the winner\")\n",
        "else:\n",
        "  print(\"Game is Draw\")\n",
        "\n",
        "print(f'Thank-You for playing\\n')\n",
        "\n",
        "  \n",
        "  "
      ],
      "execution_count": 69,
      "outputs": [
        {
          "output_type": "stream",
          "text": [
            "Yay! You have guessed 24 in 4th attempt\n",
            "Number of attempts taken by players are:\n",
            "\n",
            "After 2 trails Player_1 attemps: 1\n",
            "After 2 trails Player_2 attemps: 3\n",
            "Game is Draw\n",
            "Thank-You for playing\n",
            "\n"
          ],
          "name": "stdout"
        }
      ]
    }
  ]
}
